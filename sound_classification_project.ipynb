{
  "nbformat": 4,
  "nbformat_minor": 0,
  "metadata": {
    "colab": {
      "provenance": [],
      "collapsed_sections": []
    },
    "kernelspec": {
      "name": "python3",
      "display_name": "Python 3"
    },
    "language_info": {
      "name": "python"
    },
    "accelerator": "GPU"
  },
  "cells": [
    {
      "cell_type": "markdown",
      "source": [
        "# Kent Seslerinin Sınıflandırılması"
      ],
      "metadata": {
        "id": "Hjr5K4-M7K5a"
      }
    },
    {
      "cell_type": "code",
      "source": [
        "import os"
      ],
      "metadata": {
        "id": "dEcNxaebGKF_"
      },
      "execution_count": 1,
      "outputs": []
    },
    {
      "cell_type": "code",
      "source": [
        "from google.colab import drive"
      ],
      "metadata": {
        "id": "LssnTlLcGMQ6"
      },
      "execution_count": 2,
      "outputs": []
    },
    {
      "cell_type": "code",
      "source": [
        "drive.mount(\"/content/drive\")"
      ],
      "metadata": {
        "colab": {
          "base_uri": "https://localhost:8080/"
        },
        "id": "Jgurdct5uFZo",
        "outputId": "7d6c9e32-f301-477a-8bce-8f197bd4b752"
      },
      "execution_count": 3,
      "outputs": [
        {
          "output_type": "stream",
          "name": "stdout",
          "text": [
            "Mounted at /content/drive\n"
          ]
        }
      ]
    },
    {
      "cell_type": "code",
      "source": [
        "os.chdir(\"/content/drive/My Drive\")"
      ],
      "metadata": {
        "id": "ci6cabwdGQpM"
      },
      "execution_count": 4,
      "outputs": []
    },
    {
      "cell_type": "markdown",
      "source": [
        "## 0. Veri Setinin İncelenmesi\n",
        "\n",
        "a. “UrbanSounds8K” veri setini bilgisayarınıza indirin. (5,6 GB)\n",
        "https://urbansounddataset.weebly.com/urbansound8k.html\n",
        "\n",
        "b. İndirdiğiniz .tar dosyasını açın. (Mentorlarınızdan destek alabilirsiniz )\n",
        "\n",
        "c. README dosyasını okuyarak elimizdeki verinin ne olduğunu ve nasıl\n",
        "isimlendirildiğini iyice anlayın."
      ],
      "metadata": {
        "id": "i_cYOaVBW57L"
      }
    },
    {
      "cell_type": "code",
      "source": [
        "!ls"
      ],
      "metadata": {
        "colab": {
          "base_uri": "https://localhost:8080/"
        },
        "id": "jfTbA1E1JulJ",
        "outputId": "f0214308-1a42-4e84-dca9-580a98aa8691"
      },
      "execution_count": 5,
      "outputs": [
        {
          "output_type": "stream",
          "name": "stdout",
          "text": [
            " 34r3f\t\t\t\t    f312hh92\t\t  Untitled0.ipynb\n",
            " app1.ipynb\t\t\t    geemap_folium.ipynb   Untitled1.ipynb\n",
            "'Colab Notebooks'\t\t    ist.html\t\t  Untitled2.ipynb\n",
            " coursera\t\t\t    nighttime.ipynb\t  UrbanSound8K\n",
            " coursera_deep_learning\t\t    raster\t\t  UrbanSound8K.tar.gz\n",
            " download_daytime_satellite.ipynb   resim4.png\t\t  voiceimages\n"
          ]
        }
      ]
    },
    {
      "cell_type": "code",
      "source": [
        "import pandas as pd"
      ],
      "metadata": {
        "id": "pA5hOzNMHpBl"
      },
      "execution_count": 6,
      "outputs": []
    },
    {
      "cell_type": "code",
      "source": [
        "data=pd.read_csv(\"/content/drive/My Drive/UrbanSound8K/metadata/UrbanSound8K.csv\")\n",
        "data.head()"
      ],
      "metadata": {
        "colab": {
          "base_uri": "https://localhost:8080/",
          "height": 206
        },
        "id": "lXVNEplHcC_v",
        "outputId": "c59e422c-9916-40ea-9337-de413b11206b"
      },
      "execution_count": 7,
      "outputs": [
        {
          "output_type": "execute_result",
          "data": {
            "text/plain": [
              "      slice_file_name    fsID  start        end  salience  fold  classID  \\\n",
              "0    100032-3-0-0.wav  100032    0.0   0.317551         1     5        3   \n",
              "1  100263-2-0-117.wav  100263   58.5  62.500000         1     5        2   \n",
              "2  100263-2-0-121.wav  100263   60.5  64.500000         1     5        2   \n",
              "3  100263-2-0-126.wav  100263   63.0  67.000000         1     5        2   \n",
              "4  100263-2-0-137.wav  100263   68.5  72.500000         1     5        2   \n",
              "\n",
              "              class  \n",
              "0          dog_bark  \n",
              "1  children_playing  \n",
              "2  children_playing  \n",
              "3  children_playing  \n",
              "4  children_playing  "
            ],
            "text/html": [
              "\n",
              "  <div id=\"df-b82b607d-0ebe-4c31-b926-5ef8cd2981ea\">\n",
              "    <div class=\"colab-df-container\">\n",
              "      <div>\n",
              "<style scoped>\n",
              "    .dataframe tbody tr th:only-of-type {\n",
              "        vertical-align: middle;\n",
              "    }\n",
              "\n",
              "    .dataframe tbody tr th {\n",
              "        vertical-align: top;\n",
              "    }\n",
              "\n",
              "    .dataframe thead th {\n",
              "        text-align: right;\n",
              "    }\n",
              "</style>\n",
              "<table border=\"1\" class=\"dataframe\">\n",
              "  <thead>\n",
              "    <tr style=\"text-align: right;\">\n",
              "      <th></th>\n",
              "      <th>slice_file_name</th>\n",
              "      <th>fsID</th>\n",
              "      <th>start</th>\n",
              "      <th>end</th>\n",
              "      <th>salience</th>\n",
              "      <th>fold</th>\n",
              "      <th>classID</th>\n",
              "      <th>class</th>\n",
              "    </tr>\n",
              "  </thead>\n",
              "  <tbody>\n",
              "    <tr>\n",
              "      <th>0</th>\n",
              "      <td>100032-3-0-0.wav</td>\n",
              "      <td>100032</td>\n",
              "      <td>0.0</td>\n",
              "      <td>0.317551</td>\n",
              "      <td>1</td>\n",
              "      <td>5</td>\n",
              "      <td>3</td>\n",
              "      <td>dog_bark</td>\n",
              "    </tr>\n",
              "    <tr>\n",
              "      <th>1</th>\n",
              "      <td>100263-2-0-117.wav</td>\n",
              "      <td>100263</td>\n",
              "      <td>58.5</td>\n",
              "      <td>62.500000</td>\n",
              "      <td>1</td>\n",
              "      <td>5</td>\n",
              "      <td>2</td>\n",
              "      <td>children_playing</td>\n",
              "    </tr>\n",
              "    <tr>\n",
              "      <th>2</th>\n",
              "      <td>100263-2-0-121.wav</td>\n",
              "      <td>100263</td>\n",
              "      <td>60.5</td>\n",
              "      <td>64.500000</td>\n",
              "      <td>1</td>\n",
              "      <td>5</td>\n",
              "      <td>2</td>\n",
              "      <td>children_playing</td>\n",
              "    </tr>\n",
              "    <tr>\n",
              "      <th>3</th>\n",
              "      <td>100263-2-0-126.wav</td>\n",
              "      <td>100263</td>\n",
              "      <td>63.0</td>\n",
              "      <td>67.000000</td>\n",
              "      <td>1</td>\n",
              "      <td>5</td>\n",
              "      <td>2</td>\n",
              "      <td>children_playing</td>\n",
              "    </tr>\n",
              "    <tr>\n",
              "      <th>4</th>\n",
              "      <td>100263-2-0-137.wav</td>\n",
              "      <td>100263</td>\n",
              "      <td>68.5</td>\n",
              "      <td>72.500000</td>\n",
              "      <td>1</td>\n",
              "      <td>5</td>\n",
              "      <td>2</td>\n",
              "      <td>children_playing</td>\n",
              "    </tr>\n",
              "  </tbody>\n",
              "</table>\n",
              "</div>\n",
              "      <button class=\"colab-df-convert\" onclick=\"convertToInteractive('df-b82b607d-0ebe-4c31-b926-5ef8cd2981ea')\"\n",
              "              title=\"Convert this dataframe to an interactive table.\"\n",
              "              style=\"display:none;\">\n",
              "        \n",
              "  <svg xmlns=\"http://www.w3.org/2000/svg\" height=\"24px\"viewBox=\"0 0 24 24\"\n",
              "       width=\"24px\">\n",
              "    <path d=\"M0 0h24v24H0V0z\" fill=\"none\"/>\n",
              "    <path d=\"M18.56 5.44l.94 2.06.94-2.06 2.06-.94-2.06-.94-.94-2.06-.94 2.06-2.06.94zm-11 1L8.5 8.5l.94-2.06 2.06-.94-2.06-.94L8.5 2.5l-.94 2.06-2.06.94zm10 10l.94 2.06.94-2.06 2.06-.94-2.06-.94-.94-2.06-.94 2.06-2.06.94z\"/><path d=\"M17.41 7.96l-1.37-1.37c-.4-.4-.92-.59-1.43-.59-.52 0-1.04.2-1.43.59L10.3 9.45l-7.72 7.72c-.78.78-.78 2.05 0 2.83L4 21.41c.39.39.9.59 1.41.59.51 0 1.02-.2 1.41-.59l7.78-7.78 2.81-2.81c.8-.78.8-2.07 0-2.86zM5.41 20L4 18.59l7.72-7.72 1.47 1.35L5.41 20z\"/>\n",
              "  </svg>\n",
              "      </button>\n",
              "      \n",
              "  <style>\n",
              "    .colab-df-container {\n",
              "      display:flex;\n",
              "      flex-wrap:wrap;\n",
              "      gap: 12px;\n",
              "    }\n",
              "\n",
              "    .colab-df-convert {\n",
              "      background-color: #E8F0FE;\n",
              "      border: none;\n",
              "      border-radius: 50%;\n",
              "      cursor: pointer;\n",
              "      display: none;\n",
              "      fill: #1967D2;\n",
              "      height: 32px;\n",
              "      padding: 0 0 0 0;\n",
              "      width: 32px;\n",
              "    }\n",
              "\n",
              "    .colab-df-convert:hover {\n",
              "      background-color: #E2EBFA;\n",
              "      box-shadow: 0px 1px 2px rgba(60, 64, 67, 0.3), 0px 1px 3px 1px rgba(60, 64, 67, 0.15);\n",
              "      fill: #174EA6;\n",
              "    }\n",
              "\n",
              "    [theme=dark] .colab-df-convert {\n",
              "      background-color: #3B4455;\n",
              "      fill: #D2E3FC;\n",
              "    }\n",
              "\n",
              "    [theme=dark] .colab-df-convert:hover {\n",
              "      background-color: #434B5C;\n",
              "      box-shadow: 0px 1px 3px 1px rgba(0, 0, 0, 0.15);\n",
              "      filter: drop-shadow(0px 1px 2px rgba(0, 0, 0, 0.3));\n",
              "      fill: #FFFFFF;\n",
              "    }\n",
              "  </style>\n",
              "\n",
              "      <script>\n",
              "        const buttonEl =\n",
              "          document.querySelector('#df-b82b607d-0ebe-4c31-b926-5ef8cd2981ea button.colab-df-convert');\n",
              "        buttonEl.style.display =\n",
              "          google.colab.kernel.accessAllowed ? 'block' : 'none';\n",
              "\n",
              "        async function convertToInteractive(key) {\n",
              "          const element = document.querySelector('#df-b82b607d-0ebe-4c31-b926-5ef8cd2981ea');\n",
              "          const dataTable =\n",
              "            await google.colab.kernel.invokeFunction('convertToInteractive',\n",
              "                                                     [key], {});\n",
              "          if (!dataTable) return;\n",
              "\n",
              "          const docLinkHtml = 'Like what you see? Visit the ' +\n",
              "            '<a target=\"_blank\" href=https://colab.research.google.com/notebooks/data_table.ipynb>data table notebook</a>'\n",
              "            + ' to learn more about interactive tables.';\n",
              "          element.innerHTML = '';\n",
              "          dataTable['output_type'] = 'display_data';\n",
              "          await google.colab.output.renderOutput(dataTable, element);\n",
              "          const docLink = document.createElement('div');\n",
              "          docLink.innerHTML = docLinkHtml;\n",
              "          element.appendChild(docLink);\n",
              "        }\n",
              "      </script>\n",
              "    </div>\n",
              "  </div>\n",
              "  "
            ]
          },
          "metadata": {},
          "execution_count": 7
        }
      ]
    },
    {
      "cell_type": "code",
      "source": [
        "import matplotlib.pyplot as plt"
      ],
      "metadata": {
        "id": "Y-p7gjgILhUd"
      },
      "execution_count": 8,
      "outputs": []
    },
    {
      "cell_type": "code",
      "source": [
        "plt.figure(figsize=(15,7))\n",
        "data[\"class\"].hist()"
      ],
      "metadata": {
        "colab": {
          "base_uri": "https://localhost:8080/",
          "height": 446
        },
        "id": "7cuI8favLXMX",
        "outputId": "3a63c66e-b72d-4cf2-9024-68e1abe47be2"
      },
      "execution_count": 9,
      "outputs": [
        {
          "output_type": "execute_result",
          "data": {
            "text/plain": [
              "<matplotlib.axes._subplots.AxesSubplot at 0x7f56fb0de990>"
            ]
          },
          "metadata": {},
          "execution_count": 9
        },
        {
          "output_type": "display_data",
          "data": {
            "text/plain": [
              "<Figure size 1080x504 with 1 Axes>"
            ],
            "image/png": "[encoded data removed]"
          },
          "metadata": {
            "needs_background": "light"
          }
        }
      ]
    },
    {
      "cell_type": "code",
      "execution_count": null,
      "metadata": {
        "id": "Uf2bZe-At39T"
      },
      "outputs": [],
      "source": [
        "!tar -xvf UrbanSound8K.tar.gz"
      ]
    },
    {
      "cell_type": "code",
      "source": [
        "import librosa\n",
        "import librosa.display"
      ],
      "metadata": {
        "id": "42iYC2U6GxB8"
      },
      "execution_count": 10,
      "outputs": []
    },
    {
      "cell_type": "code",
      "source": [
        "import numpy as np"
      ],
      "metadata": {
        "id": "-vbpVJuXI8_n"
      },
      "execution_count": 11,
      "outputs": []
    },
    {
      "cell_type": "code",
      "source": [
        "def create_spectrogram(y):\n",
        "  spec= librosa.feature.melspectrogram(y=y)\n",
        "  spec_conv=librosa.amplitude_to_db(spec, ref=np.max)\n",
        "  return spec_conv"
      ],
      "metadata": {
        "id": "Y_LiGxpo5PEJ"
      },
      "execution_count": 12,
      "outputs": []
    },
    {
      "cell_type": "code",
      "source": [
        "os.mkdir(\"/content/drive/My Drive/voiceimages\")\n",
        "for etiket in range(10):\n",
        "  os.mkdir(\"/content/drive/My Drive/voiceimages\"+\"/\"+str(etiket))"
      ],
      "metadata": {
        "id": "BTUsIKX99uAT"
      },
      "execution_count": null,
      "outputs": []
    },
    {
      "cell_type": "code",
      "source": [
        "ses, sr = librosa.load(\"/content/drive/My Drive/UrbanSound8K/audio/fold2/4201-3-0-0.wav\")\n",
        "ses=create_spectrogram(ses)\n",
        "librosa.display.specshow(ses, sr= sr)\n",
        "plt.savefig(\"/content/drive/My Drive/resim4.png\", pad_inches = 0, bbox_inches = 'tight')\n",
        "plt.close()\n",
        "\n",
        "ornek_resim= plt.imread(\"/content/drive/My Drive/resim4.png\")\n",
        "plt.imshow(ornek_resim)\n",
        "plt.show()"
      ],
      "metadata": {
        "colab": {
          "base_uri": "https://localhost:8080/",
          "height": 269
        },
        "id": "ZZG68-KQOo2T",
        "outputId": "26f90f23-f0d5-4a0e-e0bb-4e8b6f120511"
      },
      "execution_count": 14,
      "outputs": [
        {
          "output_type": "display_data",
          "data": {
            "text/plain": [
              "<Figure size 432x288 with 1 Axes>"
            ],
            "image/png": "[encoded data removed]"
          },
          "metadata": {
            "needs_background": "light"
          }
        }
      ]
    },
    {
      "cell_type": "code",
      "source": [
        "for fold in range(1,11):\n",
        "  fold_iter=\"/content/drive/My Drive/UrbanSound8K/audio/fold\"+str(fold)\n",
        "\n",
        "  for ses_dosyasi in os.listdir(fold_iter):\n",
        "    if ses_dosyasi.endswith(\".wav\"):\n",
        "        ses_isim=ses_dosyasi.split(\".\")[0]\n",
        "\n",
        "        ses_etiket=ses_dosyasi.split(\"-\")[1]\n",
        "\n",
        "        audio, sr = librosa.load(fold_iter + \"/\" + ses_dosyasi)\n",
        "        spec=create_spectrogram(audio)\n",
        "        librosa.display.specshow(spec, sr= sr)\n",
        "        plt.savefig(\"/content/drive/My Drive/voiceimages/\"+ses_etiket+\"/\"+ses_isim+\".png\", pad_inches = 0, bbox_inches = 'tight')\n",
        "        plt.close()"
      ],
      "metadata": {
        "id": "tTomQKS2CAME"
      },
      "execution_count": 16,
      "outputs": []
    },
    {
      "cell_type": "markdown",
      "source": [
        "## 2. Önişleme - Notebook\n",
        "a. Görüntüleri (spectrogramları) sırasıyla okuyarak, grayscale dönüşümü, resizing ve normalizasyon yapın.\n",
        "\n",
        "b. Görüntüleri ait oldukları etiketlerle birlikte, [görüntü, etiket] formatında bir listeye ekleyin.\n",
        "\n",
        "c. Bu listeyi kullanarak, X_train, y_train, X_val, y_val, X_test ve y_test veri setlerini oluşturun.\n",
        "\n",
        "d. Bu veri setlerini bilgisayarınıza kaydedin.\n"
      ],
      "metadata": {
        "id": "5a1Pl5Ra6kTc"
      }
    },
    {
      "cell_type": "code",
      "source": [
        "import cv2"
      ],
      "metadata": {
        "id": "i7gaYcU-I29K"
      },
      "execution_count": 17,
      "outputs": []
    },
    {
      "cell_type": "markdown",
      "source": [
        "If you are enlarging the image, you should prefer to use INTER_LINEAR or INTER_CUBIC interpolation. If you are shrinking the image, you should prefer to use INTER_AREA interpolation.\n",
        "\n",
        "Link: https://stackoverflow.com/questions/23853632/which-kind-of-interpolation-best-for-resizing-image"
      ],
      "metadata": {
        "id": "EWHgHoyrYFXf"
      }
    },
    {
      "cell_type": "code",
      "source": [
        "import random"
      ],
      "metadata": {
        "id": "9HR56wMUasYo"
      },
      "execution_count": 18,
      "outputs": []
    },
    {
      "cell_type": "code",
      "source": [
        "imgs= []\n",
        "labels= []"
      ],
      "metadata": {
        "id": "iMqpyvibe1G1"
      },
      "execution_count": 19,
      "outputs": []
    },
    {
      "cell_type": "code",
      "source": [
        "for etiket in range(10):\n",
        "  img_array=os.listdir(\"/content/drive/My Drive/voiceimages/\"+str(etiket))  \n",
        "\n",
        "  for img_iter in range(len(img_array)):\n",
        "    img_gray=cv2.imread(\"/content/drive/My Drive/voiceimages/\"+str(etiket)+\"/\"+img_array[img_iter],0)\n",
        "\n",
        "    resized_gray = cv2.resize(img_gray, (100, 100), interpolation = cv2.INTER_AREA)\n",
        "\n",
        "    normalized_gray=resized_gray/255\n",
        "    \n",
        "    imgs.append(normalized_gray)\n",
        "    labels.append(etiket)\n",
        "\n",
        "dict_ = list(zip(imgs, labels))\n",
        "random.seed(42)\n",
        "random.shuffle(dict_)\n",
        "imgs, labels = zip(*dict_)\n",
        "\n",
        "imgs=np.array(imgs)\n",
        "labels=np.array(labels)"
      ],
      "metadata": {
        "id": "AWD9we1WcCGL"
      },
      "execution_count": 20,
      "outputs": []
    },
    {
      "cell_type": "code",
      "source": [
        "def train_valid_test(imgs, labels, train_percentage = 0.8, valid_percentage = 0.1):\n",
        "  size=len(imgs)\n",
        "\n",
        "  X_train=imgs[:int(train_percentage*size)]\n",
        "  X_val=imgs[int(train_percentage*size):int((train_percentage+valid_percentage)*size)]\n",
        "  X_test=imgs[int((train_percentage+valid_percentage)*size):]\n",
        "\n",
        "  y_train=labels[:int(train_percentage*size)]\n",
        "  y_val=labels[int(train_percentage*size):int((train_percentage+valid_percentage)*size)]\n",
        "  y_test=labels[int((train_percentage+valid_percentage)*size):]\n",
        "\n",
        "  return X_train, y_train, X_val, y_val, X_test, y_test"
      ],
      "metadata": {
        "id": "S4yajbYKezRk"
      },
      "execution_count": 21,
      "outputs": []
    },
    {
      "cell_type": "code",
      "source": [
        "X_train, y_train, X_val, y_val, X_test, y_test= train_valid_test(imgs, labels)"
      ],
      "metadata": {
        "id": "MHyuOddcd06p"
      },
      "execution_count": 22,
      "outputs": []
    },
    {
      "cell_type": "code",
      "source": [
        "print(\"train Shape:\", X_train.shape)\n",
        "print(\"Valid Shape:\", X_val.shape)\n",
        "print(\"Test Shape:\", X_test.shape)"
      ],
      "metadata": {
        "colab": {
          "base_uri": "https://localhost:8080/"
        },
        "id": "MngZh6Otb6At",
        "outputId": "27e96a7b-67b9-45f4-9a34-9e97fb62be10"
      },
      "execution_count": 58,
      "outputs": [
        {
          "output_type": "stream",
          "name": "stdout",
          "text": [
            "train Shape: (4056, 100, 100)\n",
            "Valid Shape: (507, 100, 100)\n",
            "Test Shape: (508, 100, 100)\n"
          ]
        }
      ]
    },
    {
      "cell_type": "markdown",
      "source": [
        "## 3. Model Hazırlanması ve Eğitimi - Notebook\n",
        "a. Bir CNN modeli hazırlayın.\n",
        "\n",
        "b. Modeli hazırlamış olduğunuz veriyi kullanarak eğitin.\n",
        "\n",
        "c. Modelin performans metriklerini, loss ve accuracy grafiklerini ekrana yazdırın.\n",
        "\n",
        "d. Aldığınız sonuçlara göre hyperparameter optimization yapın."
      ],
      "metadata": {
        "id": "VBDq2yvB6t5g"
      }
    },
    {
      "cell_type": "code",
      "source": [
        "import tensorflow as tf"
      ],
      "metadata": {
        "id": "jXUd0LarGnOG"
      },
      "execution_count": 24,
      "outputs": []
    },
    {
      "cell_type": "code",
      "source": [
        "model=tf.keras.Sequential()\n",
        "model.add(tf.keras.layers.Conv2D(32,\n",
        "                                 kernel_size=(3,3),\n",
        "                                 strides=(1,1),\n",
        "                                 padding=\"valid\",\n",
        "                                 activation=\"relu\",\n",
        "                                 input_shape=(100,100,1))) \n",
        "model.add(tf.keras.layers.Conv2D(64,\n",
        "                                 kernel_size=(3,3),\n",
        "                                 strides=(1,1),\n",
        "                                 padding=\"valid\",\n",
        "                                 activation=\"relu\"))\n",
        "model.add(tf.keras.layers.MaxPool2D((2,2)))\n",
        "model.add(tf.keras.layers.Conv2D(128,\n",
        "                                 kernel_size=(3,3),\n",
        "                                 strides=(1,1),\n",
        "                                 padding=\"valid\",\n",
        "                                 activation=\"relu\"))\n",
        "model.add(tf.keras.layers.MaxPool2D((2,2)))\n",
        "\n",
        "model.add(tf.keras.layers.Flatten())\n",
        "model.add(tf.keras.layers.Dense(256, activation=\"relu\"))\n",
        "model.add(tf.keras.layers.Dropout(0.8))\n",
        "model.add(tf.keras.layers.Dense(512, activation=\"relu\"))\n",
        "model.add(tf.keras.layers.Dropout(0.8))\n",
        "model.add(tf.keras.layers.Dense(10, activation=\"softmax\"))\n",
        "\n",
        "model.compile(optimizer=\"adam\", loss=\"sparse_categorical_crossentropy\", metrics=[\"accuracy\"])"
      ],
      "metadata": {
        "id": "06ko42NE60fj"
      },
      "execution_count": 40,
      "outputs": []
    },
    {
      "cell_type": "code",
      "source": [
        "results=model.fit(X_train, y_train, batch_size=256, epochs=50, validation_data=(X_val, y_val))"
      ],
      "metadata": {
        "id": "hAvyi1DX_aIk",
        "colab": {
          "base_uri": "https://localhost:8080/"
        },
        "outputId": "1c33e140-1457-4835-c4d6-bb08249d298a"
      },
      "execution_count": 41,
      "outputs": [
        {
          "output_type": "stream",
          "name": "stdout",
          "text": [
            "Epoch 1/50\n",
            "16/16 [==============================] - 4s 223ms/step - loss: 2.3678 - accuracy: 0.1223 - val_loss: 2.2175 - val_accuracy: 0.2623\n",
            "Epoch 2/50\n",
            "16/16 [==============================] - 3s 212ms/step - loss: 2.1927 - accuracy: 0.1869 - val_loss: 2.0061 - val_accuracy: 0.3235\n",
            "Epoch 3/50\n",
            "16/16 [==============================] - 3s 212ms/step - loss: 2.0719 - accuracy: 0.2411 - val_loss: 1.7818 - val_accuracy: 0.4201\n",
            "Epoch 4/50\n",
            "16/16 [==============================] - 3s 212ms/step - loss: 1.9107 - accuracy: 0.2875 - val_loss: 1.6081 - val_accuracy: 0.4438\n",
            "Epoch 5/50\n",
            "16/16 [==============================] - 3s 212ms/step - loss: 1.7521 - accuracy: 0.3592 - val_loss: 1.3301 - val_accuracy: 0.5621\n",
            "Epoch 6/50\n",
            "16/16 [==============================] - 3s 213ms/step - loss: 1.6373 - accuracy: 0.4009 - val_loss: 1.3079 - val_accuracy: 0.5996\n",
            "Epoch 7/50\n",
            "16/16 [==============================] - 3s 214ms/step - loss: 1.5112 - accuracy: 0.4418 - val_loss: 1.1227 - val_accuracy: 0.6371\n",
            "Epoch 8/50\n",
            "16/16 [==============================] - 3s 214ms/step - loss: 1.3988 - accuracy: 0.4867 - val_loss: 1.0171 - val_accuracy: 0.6706\n",
            "Epoch 9/50\n",
            "16/16 [==============================] - 3s 215ms/step - loss: 1.3558 - accuracy: 0.5052 - val_loss: 0.9822 - val_accuracy: 0.6982\n",
            "Epoch 10/50\n",
            "16/16 [==============================] - 3s 215ms/step - loss: 1.2505 - accuracy: 0.5444 - val_loss: 0.9280 - val_accuracy: 0.7515\n",
            "Epoch 11/50\n",
            "16/16 [==============================] - 3s 215ms/step - loss: 1.1462 - accuracy: 0.5767 - val_loss: 0.7970 - val_accuracy: 0.7535\n",
            "Epoch 12/50\n",
            "16/16 [==============================] - 3s 218ms/step - loss: 1.0687 - accuracy: 0.6050 - val_loss: 0.7648 - val_accuracy: 0.7633\n",
            "Epoch 13/50\n",
            "16/16 [==============================] - 4s 220ms/step - loss: 1.0033 - accuracy: 0.6349 - val_loss: 0.6918 - val_accuracy: 0.7968\n",
            "Epoch 14/50\n",
            "16/16 [==============================] - 3s 216ms/step - loss: 0.9759 - accuracy: 0.6376 - val_loss: 0.6621 - val_accuracy: 0.8047\n",
            "Epoch 15/50\n",
            "16/16 [==============================] - 3s 216ms/step - loss: 0.9162 - accuracy: 0.6534 - val_loss: 0.6409 - val_accuracy: 0.8185\n",
            "Epoch 16/50\n",
            "16/16 [==============================] - 4s 226ms/step - loss: 0.8806 - accuracy: 0.6731 - val_loss: 0.5924 - val_accuracy: 0.8284\n",
            "Epoch 17/50\n",
            "16/16 [==============================] - 3s 217ms/step - loss: 0.8220 - accuracy: 0.7000 - val_loss: 0.5745 - val_accuracy: 0.8501\n",
            "Epoch 18/50\n",
            "16/16 [==============================] - 3s 216ms/step - loss: 0.8122 - accuracy: 0.7044 - val_loss: 0.5319 - val_accuracy: 0.8304\n",
            "Epoch 19/50\n",
            "16/16 [==============================] - 3s 216ms/step - loss: 0.7170 - accuracy: 0.7261 - val_loss: 0.5086 - val_accuracy: 0.8619\n",
            "Epoch 20/50\n",
            "16/16 [==============================] - 3s 216ms/step - loss: 0.7289 - accuracy: 0.7359 - val_loss: 0.4924 - val_accuracy: 0.8836\n",
            "Epoch 21/50\n",
            "16/16 [==============================] - 4s 227ms/step - loss: 0.6831 - accuracy: 0.7468 - val_loss: 0.4575 - val_accuracy: 0.8757\n",
            "Epoch 22/50\n",
            "16/16 [==============================] - 3s 217ms/step - loss: 0.6400 - accuracy: 0.7628 - val_loss: 0.4726 - val_accuracy: 0.8639\n",
            "Epoch 23/50\n",
            "16/16 [==============================] - 3s 216ms/step - loss: 0.6384 - accuracy: 0.7650 - val_loss: 0.4206 - val_accuracy: 0.8994\n",
            "Epoch 24/50\n",
            "16/16 [==============================] - 3s 217ms/step - loss: 0.6142 - accuracy: 0.7756 - val_loss: 0.4405 - val_accuracy: 0.8659\n",
            "Epoch 25/50\n",
            "16/16 [==============================] - 3s 217ms/step - loss: 0.5897 - accuracy: 0.7823 - val_loss: 0.4376 - val_accuracy: 0.8718\n",
            "Epoch 26/50\n",
            "16/16 [==============================] - 3s 217ms/step - loss: 0.5639 - accuracy: 0.7944 - val_loss: 0.4035 - val_accuracy: 0.9014\n",
            "Epoch 27/50\n",
            "16/16 [==============================] - 3s 217ms/step - loss: 0.5368 - accuracy: 0.8067 - val_loss: 0.3932 - val_accuracy: 0.8994\n",
            "Epoch 28/50\n",
            "16/16 [==============================] - 3s 217ms/step - loss: 0.5462 - accuracy: 0.7894 - val_loss: 0.3917 - val_accuracy: 0.8935\n",
            "Epoch 29/50\n",
            "16/16 [==============================] - 3s 218ms/step - loss: 0.5111 - accuracy: 0.8217 - val_loss: 0.3765 - val_accuracy: 0.9073\n",
            "Epoch 30/50\n",
            "16/16 [==============================] - 3s 217ms/step - loss: 0.4910 - accuracy: 0.8240 - val_loss: 0.3846 - val_accuracy: 0.8974\n",
            "Epoch 31/50\n",
            "16/16 [==============================] - 3s 217ms/step - loss: 0.4649 - accuracy: 0.8284 - val_loss: 0.3598 - val_accuracy: 0.8974\n",
            "Epoch 32/50\n",
            "16/16 [==============================] - 3s 217ms/step - loss: 0.4518 - accuracy: 0.8341 - val_loss: 0.3555 - val_accuracy: 0.9053\n",
            "Epoch 33/50\n",
            "16/16 [==============================] - 3s 217ms/step - loss: 0.4322 - accuracy: 0.8402 - val_loss: 0.3543 - val_accuracy: 0.8974\n",
            "Epoch 34/50\n",
            "16/16 [==============================] - 3s 217ms/step - loss: 0.4360 - accuracy: 0.8393 - val_loss: 0.3427 - val_accuracy: 0.9034\n",
            "Epoch 35/50\n",
            "16/16 [==============================] - 3s 218ms/step - loss: 0.4282 - accuracy: 0.8412 - val_loss: 0.3342 - val_accuracy: 0.9014\n",
            "Epoch 36/50\n",
            "16/16 [==============================] - 3s 216ms/step - loss: 0.4166 - accuracy: 0.8454 - val_loss: 0.3281 - val_accuracy: 0.8955\n",
            "Epoch 37/50\n",
            "16/16 [==============================] - 3s 217ms/step - loss: 0.3959 - accuracy: 0.8474 - val_loss: 0.3463 - val_accuracy: 0.9093\n",
            "Epoch 38/50\n",
            "16/16 [==============================] - 4s 227ms/step - loss: 0.4077 - accuracy: 0.8494 - val_loss: 0.2995 - val_accuracy: 0.9093\n",
            "Epoch 39/50\n",
            "16/16 [==============================] - 3s 217ms/step - loss: 0.4050 - accuracy: 0.8457 - val_loss: 0.3203 - val_accuracy: 0.9073\n",
            "Epoch 40/50\n",
            "16/16 [==============================] - 3s 216ms/step - loss: 0.3957 - accuracy: 0.8558 - val_loss: 0.3432 - val_accuracy: 0.8994\n",
            "Epoch 41/50\n",
            "16/16 [==============================] - 3s 217ms/step - loss: 0.3777 - accuracy: 0.8609 - val_loss: 0.3443 - val_accuracy: 0.8935\n",
            "Epoch 42/50\n",
            "16/16 [==============================] - 3s 216ms/step - loss: 0.3769 - accuracy: 0.8595 - val_loss: 0.2950 - val_accuracy: 0.9152\n",
            "Epoch 43/50\n",
            "16/16 [==============================] - 3s 216ms/step - loss: 0.3474 - accuracy: 0.8723 - val_loss: 0.2930 - val_accuracy: 0.9152\n",
            "Epoch 44/50\n",
            "16/16 [==============================] - 3s 216ms/step - loss: 0.3436 - accuracy: 0.8676 - val_loss: 0.3091 - val_accuracy: 0.9112\n",
            "Epoch 45/50\n",
            "16/16 [==============================] - 3s 216ms/step - loss: 0.3618 - accuracy: 0.8639 - val_loss: 0.3173 - val_accuracy: 0.9132\n",
            "Epoch 46/50\n",
            "16/16 [==============================] - 3s 216ms/step - loss: 0.3607 - accuracy: 0.8634 - val_loss: 0.3261 - val_accuracy: 0.9093\n",
            "Epoch 47/50\n",
            "16/16 [==============================] - 3s 216ms/step - loss: 0.3404 - accuracy: 0.8698 - val_loss: 0.2969 - val_accuracy: 0.9093\n",
            "Epoch 48/50\n",
            "16/16 [==============================] - 4s 227ms/step - loss: 0.3275 - accuracy: 0.8750 - val_loss: 0.3096 - val_accuracy: 0.9112\n",
            "Epoch 49/50\n",
            "16/16 [==============================] - 3s 216ms/step - loss: 0.3178 - accuracy: 0.8844 - val_loss: 0.3168 - val_accuracy: 0.9112\n",
            "Epoch 50/50\n",
            "16/16 [==============================] - 3s 216ms/step - loss: 0.2802 - accuracy: 0.8972 - val_loss: 0.3028 - val_accuracy: 0.9152\n"
          ]
        }
      ]
    },
    {
      "cell_type": "code",
      "source": [
        "plt.plot(results.history[\"loss\"], label=\"loss\")\n",
        "plt.plot(results.history[\"val_loss\"], label=\"val_loss\")\n",
        "plt.xlabel(\"Epochs\")\n",
        "plt.ylabel(\"Loss\")\n",
        "plt.legend()\n",
        "plt.show()"
      ],
      "metadata": {
        "id": "rQPwceHn_nvK",
        "colab": {
          "base_uri": "https://localhost:8080/",
          "height": 279
        },
        "outputId": "752a40f4-637e-4785-e85a-c39ced73466a"
      },
      "execution_count": 42,
      "outputs": [
        {
          "output_type": "display_data",
          "data": {
            "text/plain": [
              "<Figure size 432x288 with 1 Axes>"
            ],
            "image/png": "[encoded data removed]"
          },
          "metadata": {
            "needs_background": "light"
          }
        }
      ]
    },
    {
      "cell_type": "code",
      "source": [
        "plt.plot(results.history[\"accuracy\"], label=\"accuracy\")\n",
        "plt.plot(results.history[\"val_accuracy\"], label=\"val_accuracy\")\n",
        "plt.xlabel(\"Epochs\")\n",
        "plt.ylabel(\"Accuracy\")\n",
        "plt.legend()\n",
        "plt.show()"
      ],
      "metadata": {
        "id": "3JHx_bwv_yfg",
        "colab": {
          "base_uri": "https://localhost:8080/",
          "height": 279
        },
        "outputId": "c93c2d94-b89c-4fbb-a8b4-ea24532d6983"
      },
      "execution_count": 43,
      "outputs": [
        {
          "output_type": "display_data",
          "data": {
            "text/plain": [
              "<Figure size 432x288 with 1 Axes>"
            ],
            "image/png": "[encoded data removed]"
          },
          "metadata": {
            "needs_background": "light"
          }
        }
      ]
    },
    {
      "cell_type": "code",
      "source": [
        "model.evaluate(X_test, y_test)"
      ],
      "metadata": {
        "id": "VTBGZx4q_72F",
        "colab": {
          "base_uri": "https://localhost:8080/"
        },
        "outputId": "4068eca8-25a3-4699-beb3-c45f890fe567"
      },
      "execution_count": 44,
      "outputs": [
        {
          "output_type": "stream",
          "name": "stdout",
          "text": [
            "16/16 [==============================] - 0s 14ms/step - loss: 0.3873 - accuracy: 0.8996\n"
          ]
        },
        {
          "output_type": "execute_result",
          "data": {
            "text/plain": [
              "[0.38728809356689453, 0.8996062874794006]"
            ]
          },
          "metadata": {},
          "execution_count": 44
        }
      ]
    },
    {
      "cell_type": "code",
      "source": [
        "label_to_str={0: \"air_conditioner\",\n",
        "              1: \"car_horn\",\n",
        "              2: \"children_playing\",\n",
        "              3: \"dog_bark\",\n",
        "              4: \"drilling\",\n",
        "              5: \"engine_idling\",\n",
        "              6: \"gun_shot\",\n",
        "              7: \"jackhammer\",\n",
        "              8: \"siren\",\n",
        "              9: \"street_music\"}"
      ],
      "metadata": {
        "id": "EEQrrFCom-hR"
      },
      "execution_count": 47,
      "outputs": []
    },
    {
      "cell_type": "code",
      "source": [
        "tahmin=model.predict(X_test[1].reshape((1,100,100,1)))\n",
        "tahmin_sinif=tahmin.argmax()\n",
        "tahmin_yuzde=tahmin.max()\n",
        "\n",
        "print(\"Gerçek: \"+label_to_str[y_test[1]])\n",
        "print(\"Tahmin: \"+label_to_str[tahmin_sinif])\n",
        "print(\"Olasilik Yuzde: \"+str(tahmin_yuzde*100))"
      ],
      "metadata": {
        "id": "lIDIlC_GAA34",
        "colab": {
          "base_uri": "https://localhost:8080/"
        },
        "outputId": "518921c4-14b7-4427-e15a-0009d6a04ad6"
      },
      "execution_count": 51,
      "outputs": [
        {
          "output_type": "stream",
          "name": "stdout",
          "text": [
            "Gerçek: dog_bark\n",
            "Tahmin: dog_bark\n",
            "Olasilik Yuzde: 99.99054670333862\n"
          ]
        }
      ]
    },
    {
      "cell_type": "code",
      "source": [],
      "metadata": {
        "id": "PFlRi40Q7IUr"
      },
      "execution_count": null,
      "outputs": []
    }
  ]
}